{
 "cells": [
  {
   "cell_type": "markdown",
   "metadata": {},
   "source": [
    "The Imports"
   ]
  },
  {
   "cell_type": "code",
   "execution_count": 12,
   "metadata": {},
   "outputs": [
    {
     "data": {
      "text/plain": [
       "True"
      ]
     },
     "execution_count": 12,
     "metadata": {},
     "output_type": "execute_result"
    }
   ],
   "source": [
    "import dotenv\n",
    "import os\n",
    "from pydantic import BaseModel, Field\n",
    "from langchain.document_loaders import PyMuPDFLoader\n",
    "from config import OUTPUT_DIR, DEFAULT_MODEL\n",
    "\n",
    "dotenv.load_dotenv()"
   ]
  },
  {
   "cell_type": "code",
   "execution_count": 7,
   "metadata": {},
   "outputs": [],
   "source": [
    "%load_ext autoreload\n",
    "%autoreload 2\n",
    "\n",
    "from utils import query_document, process_figure_answers, expand_figure_answers, write_analysis_to_file"
   ]
  },
  {
   "cell_type": "code",
   "execution_count": 13,
   "metadata": {},
   "outputs": [],
   "source": [
    "# ensure output directory exists\n",
    "os.makedirs(OUTPUT_DIR, exist_ok=True)\n"
   ]
  },
  {
   "cell_type": "markdown",
   "metadata": {},
   "source": [
    "Pydantic Models for Structured Output"
   ]
  },
  {
   "cell_type": "code",
   "execution_count": 23,
   "metadata": {},
   "outputs": [],
   "source": [
    "# Define the model\n",
    "class FiguresCount(BaseModel):\n",
    "    total_figures: int = Field(description=\"Total number of figures in the paper\")\n",
    "\n",
    "class PaperDetails(BaseModel):\n",
    "    title: str = Field(description=\"Title of the paper\")\n",
    "    abstract: str = Field(description=\"Abstract of the paper\")\n",
    "    authors: str = Field(description=\"Authors of the paper\")\n"
   ]
  },
  {
   "cell_type": "markdown",
   "metadata": {},
   "source": [
    "Extract the details from the paper: \n",
    "- Title\n",
    "- Abstract\n",
    "- Authors\n",
    "- Number of figures"
   ]
  },
  {
   "cell_type": "code",
   "execution_count": 27,
   "metadata": {},
   "outputs": [],
   "source": [
    "loader = PyMuPDFLoader(\"papers/p2xa_paper.pdf\")\n",
    "document = loader.load()"
   ]
  },
  {
   "cell_type": "code",
   "execution_count": 41,
   "metadata": {},
   "outputs": [],
   "source": [
    "from templates import FIGURE_COUNT_TEMPLATE\n",
    "\n",
    "figure_count_response = query_document(document, \n",
    "                                       prompt_template=FIGURE_COUNT_TEMPLATE, \n",
    "                                       model_name=DEFAULT_MODEL, \n",
    "                                       pydantic_model=FiguresCount)"
   ]
  },
  {
   "cell_type": "code",
   "execution_count": 35,
   "metadata": {},
   "outputs": [],
   "source": [
    "from templates import EXTRACT_DETAILS_TEMPLATE\n",
    "\n",
    "details_response = query_document(document, \n",
    "                                  prompt_template=EXTRACT_DETAILS_TEMPLATE, \n",
    "                                  model_name=DEFAULT_MODEL, \n",
    "                                  pydantic_model=PaperDetails)"
   ]
  },
  {
   "cell_type": "code",
   "execution_count": 43,
   "metadata": {},
   "outputs": [
    {
     "name": "stdout",
     "output_type": "stream",
     "text": [
      "Title: Increased surface P2X4 receptor regulates anxiety and memory in P2X4 internalization-defective knock-in mice\n",
      "\n",
      "Abstract: ATP signaling and surface P2X4 receptors are upregulated selectively in neurons and/or glia in various CNS disorders including anxiety, chronic pain, epilepsy, ischemia, and neurodegenerative diseases. However, the cell-specific functions of P2X4 in pathological contexts remain elusive. To elucidate P2X4 functions, we created a conditional transgenic knock-in P2X4 mouse line (Floxed P2X4mCherryIN) allowing the Cre activity-dependent genetic swapping of the internalization motif of P2X4 by the fluorescent mCherry protein to prevent constitutive endocytosis of P2X4. By combining molecular, cellular, electrophysiological, and behavioral approaches, we characterized two distinct knock-in mouse lines expressing noninternalized P2X4mCherryIN either exclusively in excitatory forebrain neurons or in all cells natively expressing P2X4. The genetic substitution of wild-type P2X4 by noninternalized P2X4mCherryIN in both knock-in mouse models did not alter the sparse distribution and subcellular localization of P2X4 but increased the number of P2X4 receptors at the surface of the targeted cells mimicking the pathological increased surface P2X4 state. Increased surface P2X4 density in the hippocampus of knock-in mice altered LTP and LTD plasticity phenomena at CA1 synapses without affecting basal excitatory transmission. Moreover, these cellular events translated into anxiolytic effects and deficits in spatial memory. Our results show that increased surface density of neuronal P2X4 contributes to synaptic deficits and alterations in anxiety and memory functions consistent with the implication of P2X4 in neuropsychiatric and neurodegenerative disorders. Furthermore, these conditional P2X4mCherryIN knock-in mice will allow exploring the cell-specific roles of P2X4 in various physiological and pathological contexts.\n",
      "\n",
      "Authors: Eléonore Bertin, Thomas Deluc, Kjara S. Pilch, Audrey Martinez, Johan-Till Pougnet, Evelyne Doudnikoff, Anne-Emilie Allain, Philine Bergmann, Marion Russeau, Estelle Toulmé, Erwan Bezard, Friedrich Koch-Nolte, Philippe Séguéla, Sabine Lévi, Bruno Bontempi, François Georges, Sandrine S. Bertrand, Olivier Nicole, Eric Boué-Grabot\n",
      "\n",
      "Number of figures: 5\n",
      "\n"
     ]
    }
   ],
   "source": [
    "print(f\"Title: {details_response.title}\\n\")\n",
    "print(f\"Abstract: {details_response.abstract}\\n\")\n",
    "print(f\"Authors: {details_response.authors}\\n\")\n",
    "print(f\"Number of figures: {figure_count_response.total_figures}\\n\")\n"
   ]
  },
  {
   "cell_type": "markdown",
   "metadata": {},
   "source": [
    "Extracting the information about each figure from the paper, then expanding the answers"
   ]
  },
  {
   "cell_type": "code",
   "execution_count": 8,
   "metadata": {},
   "outputs": [
    {
     "name": "stdout",
     "output_type": "stream",
     "text": [
      "Processing Figure 1...\n",
      "Processing Figure 2...\n",
      "Processing Figure 3...\n",
      "Processing Figure 4...\n",
      "Processing Figure 5...\n",
      "Expanding Answers for Figure 1...\n",
      "Expanding Answers for Figure 2...\n",
      "Expanding Answers for Figure 3...\n",
      "Expanding Answers for Figure 4...\n",
      "Expanding Answers for Figure 5...\n"
     ]
    }
   ],
   "source": [
    "# Extracting information about each figure from the paper \n",
    "print(f\"Extracting information about each figure from the paper {details_response.title}...\")\n",
    "answers = process_figure_answers(document, figure_count_response.total_figures)\n",
    "print(f\"Expanding the answers for {details_response.title}...\")\n",
    "expanded_answers = expand_figure_answers(document, answers)"
   ]
  },
  {
   "cell_type": "markdown",
   "metadata": {},
   "source": [
    "Lets look at our answers"
   ]
  },
  {
   "cell_type": "code",
   "execution_count": 14,
   "metadata": {},
   "outputs": [
    {
     "name": "stdout",
     "output_type": "stream",
     "text": [
      "Analysis written successfully to output/figure_analysis_results.txt\n"
     ]
    }
   ],
   "source": [
    "output_file = f\"{OUTPUT_DIR}/figure_analysis_results.txt\"\n",
    "print(f\"Writing the analysis to {output_file}...\")\n",
    "write_analysis_to_file(answers, expanded_answers, output_file)\n"
   ]
  }
 ],
 "metadata": {
  "kernelspec": {
   "display_name": "Python 3",
   "language": "python",
   "name": "python3"
  },
  "language_info": {
   "codemirror_mode": {
    "name": "ipython",
    "version": 3
   },
   "file_extension": ".py",
   "mimetype": "text/x-python",
   "name": "python",
   "nbconvert_exporter": "python",
   "pygments_lexer": "ipython3",
   "version": "3.10.0"
  }
 },
 "nbformat": 4,
 "nbformat_minor": 2
}
