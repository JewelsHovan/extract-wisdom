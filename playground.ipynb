{
 "cells": [
  {
   "cell_type": "code",
   "execution_count": 12,
   "metadata": {},
   "outputs": [
    {
     "data": {
      "text/plain": [
       "True"
      ]
     },
     "execution_count": 12,
     "metadata": {},
     "output_type": "execute_result"
    }
   ],
   "source": [
    "import dotenv\n",
    "from pydantic import BaseModel, Field\n",
    "from langchain_openai import ChatOpenAI\n",
    "from langchain.prompts import PromptTemplate\n",
    "from langchain.document_loaders import PyMuPDFLoader\n",
    "import os\n",
    "from config import OUTPUT_DIR, DEFAULT_MODEL\n",
    "\n",
    "dotenv.load_dotenv()"
   ]
  },
  {
   "cell_type": "code",
   "execution_count": 13,
   "metadata": {},
   "outputs": [],
   "source": [
    "# ensure output directory exists\n",
    "os.makedirs(OUTPUT_DIR, exist_ok=True)\n"
   ]
  },
  {
   "cell_type": "markdown",
   "metadata": {},
   "source": [
    "Pydantic Models for Structured Output"
   ]
  },
  {
   "cell_type": "code",
   "execution_count": 4,
   "metadata": {},
   "outputs": [],
   "source": [
    "# Define the model\n",
    "class FiguresCount(BaseModel):\n",
    "    total_figures: int = Field(description=\"Total number of figures in the paper\")\n"
   ]
  },
  {
   "cell_type": "markdown",
   "metadata": {},
   "source": [
    "Load the Paper"
   ]
  },
  {
   "cell_type": "code",
   "execution_count": 5,
   "metadata": {},
   "outputs": [],
   "source": [
    "loader = PyMuPDFLoader(\"papers/p2xa_paper.pdf\")\n",
    "document = loader.load()\n"
   ]
  },
  {
   "cell_type": "code",
   "execution_count": 6,
   "metadata": {},
   "outputs": [
    {
     "name": "stdout",
     "output_type": "stream",
     "text": [
      "total_figures=5\n"
     ]
    }
   ],
   "source": [
    "from templates import FIGURE_COUNT_TEMPLATE\n",
    "\n",
    "llm = ChatOpenAI(model_name=DEFAULT_MODEL)\n",
    "prompt = PromptTemplate(template=FIGURE_COUNT_TEMPLATE, input_variables=[\"text\"])\n",
    "chain = prompt | llm.with_structured_output(FiguresCount)\n",
    "response = chain.invoke({\"text\": document})\n",
    "\n",
    "print(response)"
   ]
  },
  {
   "cell_type": "code",
   "execution_count": 7,
   "metadata": {},
   "outputs": [],
   "source": [
    "%load_ext autoreload\n",
    "%autoreload 2\n",
    "\n",
    "from utils import process_figure_answers, expand_figure_answers, write_analysis_to_file"
   ]
  },
  {
   "cell_type": "code",
   "execution_count": 8,
   "metadata": {},
   "outputs": [
    {
     "name": "stdout",
     "output_type": "stream",
     "text": [
      "Processing Figure 1...\n",
      "Processing Figure 2...\n",
      "Processing Figure 3...\n",
      "Processing Figure 4...\n",
      "Processing Figure 5...\n",
      "Expanding Answers for Figure 1...\n",
      "Expanding Answers for Figure 2...\n",
      "Expanding Answers for Figure 3...\n",
      "Expanding Answers for Figure 4...\n",
      "Expanding Answers for Figure 5...\n"
     ]
    }
   ],
   "source": [
    "# Extracting information about each figure from the paper \n",
    "answers = process_figure_answers(document, response.total_figures)\n",
    "expanded_answers = expand_figure_answers(document, answers)"
   ]
  },
  {
   "cell_type": "markdown",
   "metadata": {},
   "source": [
    "Lets look at our answers"
   ]
  },
  {
   "cell_type": "code",
   "execution_count": 14,
   "metadata": {},
   "outputs": [
    {
     "name": "stdout",
     "output_type": "stream",
     "text": [
      "Analysis written successfully to output/figure_analysis_results.txt\n"
     ]
    }
   ],
   "source": [
    "\n",
    "# Example usage\n",
    "output_file = f\"{OUTPUT_DIR}/figure_analysis_results.txt\"\n",
    "write_analysis_to_file(answers, expanded_answers, output_file)"
   ]
  }
 ],
 "metadata": {
  "kernelspec": {
   "display_name": "Python 3",
   "language": "python",
   "name": "python3"
  },
  "language_info": {
   "codemirror_mode": {
    "name": "ipython",
    "version": 3
   },
   "file_extension": ".py",
   "mimetype": "text/x-python",
   "name": "python",
   "nbconvert_exporter": "python",
   "pygments_lexer": "ipython3",
   "version": "3.10.0"
  }
 },
 "nbformat": 4,
 "nbformat_minor": 2
}
